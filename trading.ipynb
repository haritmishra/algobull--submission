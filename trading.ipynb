{
  "nbformat": 4,
  "nbformat_minor": 0,
  "metadata": {
    "colab": {
      "provenance": []
    },
    "kernelspec": {
      "name": "python3",
      "display_name": "Python 3"
    },
    "language_info": {
      "name": "python"
    }
  },
  "cells": [
    {
      "cell_type": "code",
      "execution_count": 1,
      "metadata": {
        "id": "hS5VV1q4LoYF"
      },
      "outputs": [],
      "source": [
        "import requests\n",
        "import pandas as pd\n",
        "\n",
        "class ScriptData:\n",
        "    def __init__(self, api_key):\n",
        "        self.api_key = api_key\n",
        "        self.intraday_data = {}\n",
        "    \n",
        "    def fetch_intraday_data(self, script):\n",
        "        # Fetching intraday data for the given script\n",
        "        url = f\"https://www.alphavantage.co/query?function=TIME_SERIES_INTRADAY&symbol={script}&interval=1min&apikey={self.api_key}\"\n",
        "        response = requests.get(url)\n",
        "        data = response.json()\n",
        "        self.intraday_data[script] = data\n",
        "    \n",
        "    def convert_intraday_data(self, script):\n",
        "        data = self.intraday_data[script][\"Time Series (1min)\"]\n",
        "        df = pd.DataFrame(data)\n",
        "        df = df.transpose()\n",
        "        df.index = pd.to_datetime(df.index)\n",
        "        df = df.astype({\"1. open\": float, \"2. high\": float, \"3. low\": float, \"4. close\": float, \"5. volume\": int})\n",
        "        df = df.rename(columns={\"1. open\": \"open\", \"2. high\": \"high\", \"3. low\": \"low\", \"4. close\": \"close\", \"5. volume\": \"volume\"})\n",
        "        self.intraday_data[script] = df\n",
        "    \n",
        "    def __getitem__(self, script):\n",
        "        return self.intraday_data[script]\n",
        "    \n",
        "    def __setitem__(self, script, data):\n",
        "        self.intraday_data[script] = data\n",
        "    \n",
        "    def __contains__(self, script):\n",
        "        return script in self.intraday_data\n"
      ]
    },
    {
      "cell_type": "code",
      "source": [
        "def indicator1(df, timeperiod):\n",
        "    indicator = df[\"close\"].rolling(window=timeperiod).mean()\n",
        "    result = pd.DataFrame({\"timestamp\": df.index, \"indicator\": indicator})\n",
        "    return result\n"
      ],
      "metadata": {
        "id": "XbgTUqgGL6Go"
      },
      "execution_count": 2,
      "outputs": []
    },
    {
      "cell_type": "code",
      "source": [
        "class Strategy:\n",
        "    def __init__(self, script):\n",
        "        self.script_data = ScriptData()\n",
        "        self.df = self.script_data.fetch_intraday_data(script)\n",
        "        self.indicator = indicator1(self.df, 5)\n",
        "        self.signals = self.generate_signals()\n",
        "\n",
        "    def generate_signals(self):\n",
        "        signals = []\n",
        "        for i in range(1, len(self.df)):\n",
        "            if self.indicator[\"indicator\"][i] > self.df[\"close\"][i] and self.indicator[\"indicator\"][i - 1] <= self.df[\"close\"][i - 1]:\n",
        "                signals.append(\"BUY\")\n",
        "            elif self.indicator[\"indicator\"][i] < self.df[\"close\"][i] and self.indicator[\"indicator\"][i - 1] >= self.df[\"close\"][i - 1]:\n",
        "                signals.append(\"SELL\")\n",
        "            else:\n",
        "                signals.append(\"NO_SIGNAL\")\n",
        "        signals = pd.DataFrame({\"timestamp\": self.df.index[1:], \"signal\": signals})\n",
        "        return signals\n"
      ],
      "metadata": {
        "id": "RbBPsRRfL5_Q"
      },
      "execution_count": 3,
      "outputs": []
    },
    {
      "cell_type": "code",
      "source": [
        "import plotly.express as px\n",
        "\n",
        "def plot_candlestick_chart(df):\n",
        "    fig = px.candlestick(df, x='timestamp', open='open', high='high', low='low', close='close', title='Candlestick Chart')\n",
        "    fig.show()\n",
        "\n",
        "def plot_indicator_chart(indicator_data):\n",
        "    fig = px.line(indicator_data, x='timestamp', y='indicator', title='Indicator Chart')\n",
        "    fig.show()\n"
      ],
      "metadata": {
        "id": "C5C5vm38MC4K"
      },
      "execution_count": 4,
      "outputs": []
    }
  ]
}